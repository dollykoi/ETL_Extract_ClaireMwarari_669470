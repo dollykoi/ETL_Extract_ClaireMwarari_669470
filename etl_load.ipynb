{
 "cells": [
  {
   "cell_type": "code",
   "execution_count": 1,
   "id": "922e9c2e",
   "metadata": {},
   "outputs": [],
   "source": [
    "# Section 1: Load Setup – Import libraries, connect to DB or define file paths\n",
    "\n",
    "import pandas as pd\n",
    "import sqlite3\n",
    "from pathlib import Path\n",
    "\n",
    "# SQLite schema as a string (use .format(table_name=...) )\n",
    "SCHEMA = \"\"\"\n",
    "CREATE TABLE IF NOT EXISTS {table_name} (\n",
    "    id INTEGER PRIMARY KEY,\n",
    "    customer_name TEXT,\n",
    "    product TEXT,\n",
    "    quantity INTEGER,\n",
    "    unit_price REAL,\n",
    "    total_price REAL,\n",
    "    order_date TEXT\n",
    ");\n",
    "\"\"\"\n",
    "\n",
    "def load_csv_to_sqlite(csv_path, db_path, table_name):\n",
    "    \"\"\"Load a CSV file into a SQLite database table.\"\"\"\n",
    "    df = pd.read_csv(csv_path)\n",
    "    conn = sqlite3.connect(db_path)\n",
    "    cursor = conn.cursor()\n",
    "    cursor.execute(SCHEMA.format(table_name=table_name))\n",
    "    df.to_sql(table_name, conn, if_exists='replace', index=False)\n",
    "    conn.commit()\n",
    "    conn.close()\n",
    "    return df\n",
    "\n",
    "def preview_sqlite_table(db_path, table_name, n=5):\n",
    "    \"\"\"Preview n rows from a table in a SQLite database.\"\"\"\n",
    "    conn = sqlite3.connect(db_path)\n",
    "    df = pd.read_sql_query(f\"SELECT * FROM {table_name} LIMIT {n};\", conn)\n",
    "    conn.close()\n",
    "    return df\n",
    "\n",
    "# Define file paths\n",
    "data_dir = Path('.')\n",
    "csv_full = data_dir / 'transformed_full.csv'\n",
    "csv_incremental = data_dir / 'transformed_incremental.csv'\n",
    "loaded_data_dir = data_dir / 'loaded_data'\n",
    "loaded_data_dir.mkdir(exist_ok=True)\n",
    "\n",
    "db_full = loaded_data_dir / 'full_data.db'\n",
    "db_incremental = loaded_data_dir / 'incremental_data.db'\n"
   ]
  },
  {
   "cell_type": "code",
   "execution_count": 2,
   "id": "9975ec59",
   "metadata": {},
   "outputs": [
    {
     "name": "stdout",
     "output_type": "stream",
     "text": [
      "Full data loaded into SQLite database.\n"
     ]
    }
   ],
   "source": [
    "# Section 2: Load Full Transformed Data\n",
    "\n",
    "df_full = load_csv_to_sqlite(\n",
    "    csv_path=csv_full,\n",
    "    db_path=db_full,\n",
    "    table_name='full_data'\n",
    ")\n",
    "print(\"Full data loaded into SQLite database.\")"
   ]
  },
  {
   "cell_type": "code",
   "execution_count": 3,
   "id": "f59c568e",
   "metadata": {},
   "outputs": [
    {
     "name": "stdout",
     "output_type": "stream",
     "text": [
      "Incremental data loaded into SQLite database.\n"
     ]
    }
   ],
   "source": [
    "# Section 3: Load Incremental Transformed Data\n",
    "\n",
    "df_incremental = load_csv_to_sqlite(\n",
    "    csv_path=csv_incremental,\n",
    "    db_path=db_incremental,\n",
    "    table_name='incremental_data'\n",
    ")\n",
    "print(\"Incremental data loaded into SQLite database.\")"
   ]
  },
  {
   "cell_type": "code",
   "execution_count": 4,
   "id": "bbf87e39",
   "metadata": {},
   "outputs": [
    {
     "name": "stdout",
     "output_type": "stream",
     "text": [
      "\n",
      "Preview of full_data (SQLite):\n"
     ]
    },
    {
     "data": {
      "text/html": [
       "<div>\n",
       "<style scoped>\n",
       "    .dataframe tbody tr th:only-of-type {\n",
       "        vertical-align: middle;\n",
       "    }\n",
       "\n",
       "    .dataframe tbody tr th {\n",
       "        vertical-align: top;\n",
       "    }\n",
       "\n",
       "    .dataframe thead th {\n",
       "        text-align: right;\n",
       "    }\n",
       "</style>\n",
       "<table border=\"1\" class=\"dataframe\">\n",
       "  <thead>\n",
       "    <tr style=\"text-align: right;\">\n",
       "      <th></th>\n",
       "      <th>id</th>\n",
       "      <th>customer</th>\n",
       "      <th>date</th>\n",
       "      <th>amount</th>\n",
       "      <th>last_updated</th>\n",
       "    </tr>\n",
       "  </thead>\n",
       "  <tbody>\n",
       "    <tr>\n",
       "      <th>0</th>\n",
       "      <td>8435</td>\n",
       "      <td>BestBuy</td>\n",
       "      <td>2025-04-02</td>\n",
       "      <td>1292</td>\n",
       "      <td>2025-04-02T06:41:00</td>\n",
       "    </tr>\n",
       "    <tr>\n",
       "      <th>1</th>\n",
       "      <td>3971</td>\n",
       "      <td>Target</td>\n",
       "      <td>2025-04-02</td>\n",
       "      <td>298</td>\n",
       "      <td>2025-04-02T20:41:00</td>\n",
       "    </tr>\n",
       "    <tr>\n",
       "      <th>2</th>\n",
       "      <td>5303</td>\n",
       "      <td>eBay</td>\n",
       "      <td>2025-04-02</td>\n",
       "      <td>227</td>\n",
       "      <td>2025-04-02T13:04:00</td>\n",
       "    </tr>\n",
       "    <tr>\n",
       "      <th>3</th>\n",
       "      <td>3967</td>\n",
       "      <td>Target</td>\n",
       "      <td>2025-04-02</td>\n",
       "      <td>1115</td>\n",
       "      <td>2025-04-02T16:47:00</td>\n",
       "    </tr>\n",
       "    <tr>\n",
       "      <th>4</th>\n",
       "      <td>4883</td>\n",
       "      <td>Costco</td>\n",
       "      <td>2025-04-03</td>\n",
       "      <td>1726</td>\n",
       "      <td>2025-04-03T06:18:00</td>\n",
       "    </tr>\n",
       "  </tbody>\n",
       "</table>\n",
       "</div>"
      ],
      "text/plain": [
       "     id customer        date  amount         last_updated\n",
       "0  8435  BestBuy  2025-04-02    1292  2025-04-02T06:41:00\n",
       "1  3971   Target  2025-04-02     298  2025-04-02T20:41:00\n",
       "2  5303     eBay  2025-04-02     227  2025-04-02T13:04:00\n",
       "3  3967   Target  2025-04-02    1115  2025-04-02T16:47:00\n",
       "4  4883   Costco  2025-04-03    1726  2025-04-03T06:18:00"
      ]
     },
     "metadata": {},
     "output_type": "display_data"
    },
    {
     "name": "stdout",
     "output_type": "stream",
     "text": [
      "\n",
      "Preview of incremental_data (SQLite):\n"
     ]
    },
    {
     "data": {
      "text/html": [
       "<div>\n",
       "<style scoped>\n",
       "    .dataframe tbody tr th:only-of-type {\n",
       "        vertical-align: middle;\n",
       "    }\n",
       "\n",
       "    .dataframe tbody tr th {\n",
       "        vertical-align: top;\n",
       "    }\n",
       "\n",
       "    .dataframe thead th {\n",
       "        text-align: right;\n",
       "    }\n",
       "</style>\n",
       "<table border=\"1\" class=\"dataframe\">\n",
       "  <thead>\n",
       "    <tr style=\"text-align: right;\">\n",
       "      <th></th>\n",
       "      <th>id</th>\n",
       "      <th>customer</th>\n",
       "      <th>date</th>\n",
       "      <th>amount</th>\n",
       "      <th>last_updated</th>\n",
       "    </tr>\n",
       "  </thead>\n",
       "  <tbody>\n",
       "    <tr>\n",
       "      <th>0</th>\n",
       "      <td>8435</td>\n",
       "      <td>BestBuy</td>\n",
       "      <td>2025-04-02</td>\n",
       "      <td>1292</td>\n",
       "      <td>2025-04-02T06:41:00</td>\n",
       "    </tr>\n",
       "    <tr>\n",
       "      <th>1</th>\n",
       "      <td>3971</td>\n",
       "      <td>Target</td>\n",
       "      <td>2025-04-02</td>\n",
       "      <td>298</td>\n",
       "      <td>2025-04-02T20:41:00</td>\n",
       "    </tr>\n",
       "    <tr>\n",
       "      <th>2</th>\n",
       "      <td>5303</td>\n",
       "      <td>eBay</td>\n",
       "      <td>2025-04-02</td>\n",
       "      <td>227</td>\n",
       "      <td>2025-04-02T13:04:00</td>\n",
       "    </tr>\n",
       "    <tr>\n",
       "      <th>3</th>\n",
       "      <td>3967</td>\n",
       "      <td>Target</td>\n",
       "      <td>2025-04-02</td>\n",
       "      <td>1115</td>\n",
       "      <td>2025-04-02T16:47:00</td>\n",
       "    </tr>\n",
       "    <tr>\n",
       "      <th>4</th>\n",
       "      <td>4883</td>\n",
       "      <td>Costco</td>\n",
       "      <td>2025-04-03</td>\n",
       "      <td>1726</td>\n",
       "      <td>2025-04-03T06:18:00</td>\n",
       "    </tr>\n",
       "  </tbody>\n",
       "</table>\n",
       "</div>"
      ],
      "text/plain": [
       "     id customer        date  amount         last_updated\n",
       "0  8435  BestBuy  2025-04-02    1292  2025-04-02T06:41:00\n",
       "1  3971   Target  2025-04-02     298  2025-04-02T20:41:00\n",
       "2  5303     eBay  2025-04-02     227  2025-04-02T13:04:00\n",
       "3  3967   Target  2025-04-02    1115  2025-04-02T16:47:00\n",
       "4  4883   Costco  2025-04-03    1726  2025-04-03T06:18:00"
      ]
     },
     "metadata": {},
     "output_type": "display_data"
    }
   ],
   "source": [
    "# Section 4: Verification (preview loaded tables)\n",
    "\n",
    "print(\"\\nPreview of full_data (SQLite):\")\n",
    "display(preview_sqlite_table(db_full, 'full_data'))\n",
    "\n",
    "print(\"\\nPreview of incremental_data (SQLite):\")\n",
    "display(preview_sqlite_table(db_incremental, 'incremental_data'))"
   ]
  }
 ],
 "metadata": {
  "kernelspec": {
   "display_name": "Python 3",
   "language": "python",
   "name": "python3"
  },
  "language_info": {
   "codemirror_mode": {
    "name": "ipython",
    "version": 3
   },
   "file_extension": ".py",
   "mimetype": "text/x-python",
   "name": "python",
   "nbconvert_exporter": "python",
   "pygments_lexer": "ipython3",
   "version": "3.13.4"
  }
 },
 "nbformat": 4,
 "nbformat_minor": 5
}
